{
 "cells": [
  {
   "cell_type": "code",
   "execution_count": 1,
   "id": "0c73c5b8",
   "metadata": {},
   "outputs": [],
   "source": [
    "import sys\n",
    "import mne\n",
    "import pandas as pd\n",
    "import numpy as np\n",
    "import os.path\n",
    "from os import path\n",
    "import pyprep\n",
    "from mne import Epochs, pick_types, find_events, pick_types, set_eeg_reference, channels, preprocessing\n",
    "from mne.io import concatenate_raws, read_raw_bdf, read_raw_eeglab, eeglab\n",
    "from mne.preprocessing import ICA, create_eog_epochs, create_ecg_epochs, corrmap,  annotate_muscle_zscore\n",
    "import matplotlib.pyplot as plt\n",
    "from scipy.integrate import simps\n",
    "from mne.viz import plot_topomap\n",
    "from matplotlib import cm, colors, colorbar\n",
    "from fooof.bands import Bands\n",
    "import math\n",
    "    \n",
    "%matplotlib qt \n"
   ]
  },
  {
   "cell_type": "markdown",
   "id": "e89722af",
   "metadata": {},
   "source": [
    "**Input**: The input to this script will be the matlab version of the raw data (.set files).\n",
    "\n",
    "**Output**: This will result in epoched preprocessed eeg data, saved as an .fif file.\n",
    "\n",
    "**Observations**: Keep a record of the quality of the data, such as bridged electrodes, flat lined electrodes, number of epochs dropped, types of artifacts in the data, which ICA components removed - these should be inputted to https://docs.google.com/spreadsheets/d/1lvMoz_4yqfM0uZXONilXo1MfdgEKzUtDy3Ju8tA1PHA/edit?usp=sharing"
   ]
  },
  {
   "cell_type": "markdown",
   "id": "bddb5bf3",
   "metadata": {},
   "source": [
    "### Order of pre-processing\n",
    "\n",
    "1. Load in data, improve the electrode names, drop RESP and ECG as well as M1, M2, set the montage\n",
    "2. Visualise the data as a psd to get names of any flatlined channels. (record them in the google spreadsheet)\n",
    "3. Store the flat lined channels as 'bads'\n",
    "4. Inspect raw data - look at levels of environmental noise to get initial idea of quality\n",
    "5. Filter: apply high pass, decide whether to apply low pass at this point, plus notch filtering for line noise\n",
    "6. Check for bridged electrodes, save a list of them to be later intepolated (also record them in the google spreadsheet)\n",
    "7. Annotage bad electrodes on the interactive plot, by clicking on the labels at the side\n",
    "8. Annotate bad segments of data - open up interactive plot, drag across bad segments\n",
    "9. Make a copy of the raw data, call it 'data'\n",
    "10. Run ICA on 'data' and plot components -  Reject eye blink, heart rate and broadband noise related components - check with Holly if any uncertainty!\n",
    "11. Run the automatic component labelling\n",
    "12. Apply ICA to the data and do some more plots to check whether eye movement etc has successfully been removed.\n",
    "13. Check how many epochs have been dropped\n",
    "14. Segment data into 3 second epochs\n",
    "15. Interpolate bridged and bad electrodes\n",
    "16. Add 'CPz' back in and Rereference to common \n",
    "17. Final ICA check - top 5 components, should all be brain! Take a picture of these to save as a record.If not all brain, the data needs further cleaning.\n",
    "18. Save data\n",
    "\n",
    "\n",
    "Done!\n",
    "\n"
   ]
  },
  {
   "cell_type": "markdown",
   "id": "a4852996",
   "metadata": {},
   "source": [
    "### (1) Load up the data\n",
    "Load up one subject, from one condition at a time to process.\n",
    "\n",
    "\n",
    "Set the parameters at the beginning - **month, pre or post, closed or open, ppt num**"
   ]
  },
  {
   "cell_type": "code",
   "execution_count": null,
   "id": "d9b6426b",
   "metadata": {},
   "outputs": [],
   "source": [
    "subjects = ['02']\n",
    "conditions = ['pre'] # select either 'pre' or 'post'\n",
    "tasks = ['closed'] # select either 'open' or 'closed'\n",
    "month = 'september' #'august' #'march'"
   ]
  },
  {
   "cell_type": "code",
   "execution_count": null,
   "id": "0db9add1",
   "metadata": {},
   "outputs": [],
   "source": [
    "segmentlength = 3 # means our epochs will be three seconds long\n",
    "E_error = True\n",
    "# this is a for loop, but actually we can ignore than as we are not doing batch processing\n",
    "for sub in subjects:\n",
    "    for condition in conditions:\n",
    "        for task in tasks:\n",
    "            if task == 'open':\n",
    "                tasklabel = 'eo'\n",
    "            else:\n",
    "                tasklabel = 'ec'\n",
    "          #  root = 'C:\\\\Users\\\\dedbl\\\\Documents\\\\onaya-eeg\\\\setfiles\\\\sub-01\\\\pre-retreat-rsEEG\\\\eyes_closed\\\\'\n",
    "            root = 'D:\\\\onaya-eeg\\\\data-'+month+'\\\\sub-'+sub+'\\\\'+condition+'-retreat-rsEEG\\\\eyes_'+task+'\\\\'\n",
    "          ##  root = 'X:\\\\CompSci\\\\ResearchProjects\\\\EJONeill\\\\Neuroimaging\\\\onaya\\\\sub-'+sub+'\\\\'+condition+'-retreat-rsEEG\\\\eyes_'+task+'\\\\'\n",
    "            fname = root + 'sub-'+sub+'-'+tasklabel+'-'+condition+'.set'\n",
    "            \n",
    "            # make folder to save preprocessing plots in\n",
    "            plotpath = root+'plots_preprocessing' \n",
    "            if not os.path.exists(plotpath):\n",
    "                os.makedirs(plotpath)   \n",
    "            raw = mne.io.read_raw_eeglab(input_fname=fname, preload=True)\n",
    "            endPoint = (raw.n_times - 1) / raw.info['sfreq']\n",
    "            print(raw.info['ch_names'])\n",
    "            \n",
    "            if E_error:\n",
    "                # Get the current channel names\n",
    "                channel_names = raw.ch_names\n",
    "                # Rename the channels by removing the first 'E' character\n",
    "                new_channel_names = [name.replace('E', '', 1) for name in channel_names]\n",
    "                # Update the channel names in the raw data\n",
    "                raw.rename_channels({old: new for old, new in zip(channel_names, new_channel_names)})\n",
    "            \n",
    "            raw = raw.crop(tmin=5,tmax=endPoint-5) # do not crop, as we want to retain as much of the data as possible.\n",
    "            raw.set_channel_types({'EOG':'eog'})\n",
    "         #   raw = raw.drop_channels(ch_names = ['RESP3','BIP1', 'M1', 'M2'])\n",
    "            raw = raw.drop_channels(ch_names = ['RESP','ECG', 'M1', 'M2'])\n",
    "            \n",
    "            # set the montage\n",
    "            easycap_montage = mne.channels.make_standard_montage('standard_1005')\n",
    "            raw.set_montage(easycap_montage)"
   ]
  },
  {
   "cell_type": "markdown",
   "id": "ab81927f",
   "metadata": {},
   "source": [
    "### (2) Visualise the montage and sanity check PSD\n",
    "Check for power line noise. If these plots fail to run it likely means some electrodes have inf values. Check the description thats output, get the names of flat-line electrodes to input to the next step. Check for whether there is an alpha peak "
   ]
  },
  {
   "cell_type": "code",
   "execution_count": null,
   "id": "26b777e2",
   "metadata": {
    "scrolled": true
   },
   "outputs": [],
   "source": [
    "#easycap_montage.plot()\n",
    "raw.plot_psd_topomap(ch_type='eeg', normalize=True)\n",
    "raw.plot_sensors(show_names=True,kind='topomap')\n",
    "raw.plot_psd(fmax=100)\n",
    "raw.plot()"
   ]
  },
  {
   "cell_type": "markdown",
   "id": "a1abea1d",
   "metadata": {},
   "source": [
    "### (3) Label any flatlined channels as 'bad' here\n",
    "otherwise psd plots tricky to read. These can be identified in the above, as a warning message will say Zero value in spectrum for a list of channels, or that these channels might be dead. Also in the psd this produces, note any channels that have an specially low or high value, these should be noted as bad in the below code too"
   ]
  },
  {
   "cell_type": "code",
   "execution_count": null,
   "id": "0415037b",
   "metadata": {},
   "outputs": [],
   "source": [
    "def flat_lined_chans(data, chans):\n",
    "    if chans == []:\n",
    "        print(\"Either there are no flatlined channels, or you have forgotten to enter them\")\n",
    "    else:\n",
    "        print('Flatlined channels to be dropped are ', chans)\n",
    "        # Create a figure with two subplots\n",
    "        data.plot_psd(fmax=100)\n",
    "        raw.info[\"bads\"].extend(chans)\n",
    "       # data = data.drop_channels(ch_names = chans)\n",
    "        data.plot_psd(fmax=100)\n",
    "        plt.show()\n",
    "    return data\n",
    "    "
   ]
  },
  {
   "cell_type": "code",
   "execution_count": null,
   "id": "5138de4e",
   "metadata": {
    "scrolled": true
   },
   "outputs": [],
   "source": [
    "raw = flat_lined_chans(raw, chans = [''])  #names of flat lined channels go here\n",
    "raw.plot_psd(fmax=100)\n",
    "raw.plot()"
   ]
  },
  {
   "cell_type": "markdown",
   "id": "a0c14cdb",
   "metadata": {},
   "source": [
    "### (4) Inspect raw data quality - Plot the data\n",
    "Likely this will be highly noisy at this point due to broadband noise"
   ]
  },
  {
   "cell_type": "code",
   "execution_count": null,
   "id": "29dc8449",
   "metadata": {},
   "outputs": [],
   "source": [
    "raw.plot() "
   ]
  },
  {
   "cell_type": "markdown",
   "id": "98e9d244",
   "metadata": {},
   "source": [
    "### (5) 'Filter'\n",
    "High pass filter the data at 0.53 hz and low-pass 45 hz, apply notch filter too for 60hz and its harmonics"
   ]
  },
  {
   "cell_type": "code",
   "execution_count": null,
   "id": "b444cd8a",
   "metadata": {},
   "outputs": [],
   "source": [
    "raw = raw.filter(l_freq = 0.53, h_freq = 45)\n",
    "raw = raw.notch_filter([60, 120])\n",
    "raw.plot_psd(fmax=100)\n",
    "\n",
    "raw.plot()\n",
    "        "
   ]
  },
  {
   "cell_type": "markdown",
   "id": "06559ccc",
   "metadata": {},
   "source": [
    "temp_version.annotations.save('annotations.txt', overwrite=True)\n",
    "annot = mne.read_annotations('annotations.txt')\n",
    "raw.set_annotations(annot) "
   ]
  },
  {
   "cell_type": "markdown",
   "id": "5292ccbc",
   "metadata": {},
   "source": [
    "### (6) Identify bridged electrodes\n",
    "Save the indexes, so they can be interpolated after artifact removal"
   ]
  },
  {
   "cell_type": "code",
   "execution_count": null,
   "id": "f9c04982",
   "metadata": {},
   "outputs": [],
   "source": [
    "\n",
    "\n",
    "ed_data = mne.preprocessing.compute_bridged_electrodes(raw)\n",
    "bridged_idx = ed_data[0]\n",
    "\n",
    "if len(bridged_idx) > 3:\n",
    "    print(\"Warning: Over two pairs electrodes show bridging: \", len(bridged_idx))\n",
    "elif len(bridged_idx) == 0:\n",
    "    print(\"No bridged electrodes, congratulations!\")\n",
    "else:\n",
    "    print(\"Number of bridged pairs are: \", len(bridged_idx))\n",
    "\n"
   ]
  },
  {
   "cell_type": "markdown",
   "id": "9433444e",
   "metadata": {},
   "source": [
    "### (7) Annotate obviously noisy electrodes - though unlikely to need this step"
   ]
  },
  {
   "cell_type": "code",
   "execution_count": null,
   "id": "10cbbedf",
   "metadata": {},
   "outputs": [],
   "source": [
    "raw.plot()"
   ]
  },
  {
   "cell_type": "markdown",
   "id": "d924be28",
   "metadata": {},
   "source": [
    "### (8) Start cutting out noisy segments i.e gross artifacts\n",
    "Highlight these segments in the interactive plot\n",
    "\n",
    "\n",
    "Look out for:\n",
    "1. Squid jumps (electrical)\n",
    "2. Gross muscle artefact\n",
    "3. sweat"
   ]
  },
  {
   "cell_type": "markdown",
   "id": "943a25b7",
   "metadata": {},
   "source": [
    "raw.plot()\n",
    "raw.plot_psd(fmax=45)\n",
    "        "
   ]
  },
  {
   "cell_type": "markdown",
   "id": "7aa458b1",
   "metadata": {},
   "source": [
    "### (9) make copy of the data"
   ]
  },
  {
   "cell_type": "code",
   "execution_count": null,
   "id": "39606103",
   "metadata": {},
   "outputs": [],
   "source": [
    "data = raw.copy() # reconst_raw"
   ]
  },
  {
   "cell_type": "markdown",
   "id": "13f887a4",
   "metadata": {},
   "source": [
    "### (10)  Compute ICA and plot components\n",
    "Look out for heart rate, eye blinks and eye movements  - also for electrodes with high impedance, and for broadband noise, 'white noise'. Mark these on the plots."
   ]
  },
  {
   "cell_type": "code",
   "execution_count": null,
   "id": "79c7a061",
   "metadata": {
    "scrolled": false
   },
   "outputs": [],
   "source": [
    "#from autoreject import get_rejection_threshold \n",
    "print(\"Computing ICA, identifying eog and muscle activity, excluding components that capture these\")\n",
    "#ica_components = 63 # there are 64 channels - should be lower dimensionality than num of channels\n",
    "ica = mne.preprocessing.ICA(n_components=50, random_state=97, max_iter='auto',method='fastica')\n",
    "ica.fit(data, reject_by_annotation=True, picks = 'eeg')\n",
    "ica"
   ]
  },
  {
   "cell_type": "code",
   "execution_count": null,
   "id": "5ba0b729",
   "metadata": {
    "scrolled": true
   },
   "outputs": [],
   "source": [
    "ica.plot_components(inst=data)\n",
    "ica.plot_sources(data) # note applied to original raw"
   ]
  },
  {
   "cell_type": "markdown",
   "id": "dc5a1633",
   "metadata": {},
   "source": [
    "### (11) As a support tool use the ICA automatic identifier to look for eye and heart artifacts"
   ]
  },
  {
   "cell_type": "code",
   "execution_count": null,
   "id": "8ca9d860",
   "metadata": {
    "scrolled": true
   },
   "outputs": [],
   "source": [
    "from mne_icalabel import label_components\n",
    "label_components(data, ica, method='iclabel')"
   ]
  },
  {
   "cell_type": "markdown",
   "id": "ef71882d",
   "metadata": {},
   "source": [
    "Check that you have correctly selected the ICA components to be removed"
   ]
  },
  {
   "cell_type": "code",
   "execution_count": null,
   "id": "478a938d",
   "metadata": {},
   "outputs": [],
   "source": [
    "print(ica.exclude)"
   ]
  },
  {
   "cell_type": "markdown",
   "id": "d52a55ff",
   "metadata": {},
   "source": [
    "### (12) Apply the ICA to the raw data, now saved as reconst_raw\n",
    "After this plot the new output to check it has successfully removed eye movements etc"
   ]
  },
  {
   "cell_type": "code",
   "execution_count": null,
   "id": "6ee55c1e",
   "metadata": {},
   "outputs": [],
   "source": [
    "print(ica.exclude)\n",
    "reconst_raw = raw.copy()\n",
    "#spare_unfiltered=unfiltered.copy()\n",
    "ica.apply(reconst_raw)"
   ]
  },
  {
   "cell_type": "code",
   "execution_count": null,
   "id": "05777da7",
   "metadata": {},
   "outputs": [],
   "source": [
    "\n",
    "reconst_raw = reconst_raw.filter(l_freq = 0.1, h_freq = 45)\n",
    "reconst_raw.plot()\n",
    "reconst_raw.plot_psd(fmax=100)"
   ]
  },
  {
   "cell_type": "markdown",
   "id": "17dcedc8",
   "metadata": {},
   "source": [
    "### (13) Visualise how much data has been dropped"
   ]
  },
  {
   "cell_type": "code",
   "execution_count": null,
   "id": "3b175a0d",
   "metadata": {},
   "outputs": [],
   "source": [
    "epochs = mne.make_fixed_length_epochs(raw, duration=1, preload=True, reject_by_annotation=True)\n",
    "epochs.plot_drop_log()\n",
    "plt.savefig(plotpath+'\\\\epoch_droplog', dpi=100, format='pdf')"
   ]
  },
  {
   "cell_type": "markdown",
   "id": "69ccb501",
   "metadata": {},
   "source": [
    "### (14) Segment the data into 3 second epochs"
   ]
  },
  {
   "cell_type": "code",
   "execution_count": null,
   "id": "bdb8330a",
   "metadata": {},
   "outputs": [],
   "source": [
    "epochs = mne.make_fixed_length_epochs(reconst_raw, duration=segmentlength, preload=True, reject_by_annotation = True)\n"
   ]
  },
  {
   "cell_type": "markdown",
   "id": "6b100c77",
   "metadata": {},
   "source": [
    "### Save a .txt file with annotation information"
   ]
  },
  {
   "cell_type": "code",
   "execution_count": null,
   "id": "9bf6ffed",
   "metadata": {},
   "outputs": [],
   "source": [
    "reconst_raw.annotations.save('august_sub-'+sub+'-'+condition+'-'+tasklabel+'-saved-annotations.txt', overwrite=True)"
   ]
  },
  {
   "cell_type": "code",
   "execution_count": null,
   "id": "faf42cef",
   "metadata": {},
   "outputs": [],
   "source": [
    "epochs.plot()\n"
   ]
  },
  {
   "cell_type": "markdown",
   "id": "51a5c6e4",
   "metadata": {},
   "source": [
    "### (15)  Interpolate 'bads' and bridged electrodes"
   ]
  },
  {
   "cell_type": "code",
   "execution_count": null,
   "id": "ceae52c5",
   "metadata": {},
   "outputs": [],
   "source": [
    "epochs = mne.preprocessing.interpolate_bridged_electrodes(epochs, bridged_idx, bad_limit=4)\n",
    "epochs.interpolate_bads(reset_bads=False, verbose = True)"
   ]
  },
  {
   "cell_type": "code",
   "execution_count": null,
   "id": "2515734f",
   "metadata": {},
   "outputs": [],
   "source": [
    "epochs.plot_psd(fmax=45)\n",
    "#epochs.info['ch_names']"
   ]
  },
  {
   "cell_type": "markdown",
   "id": "9ffe248a",
   "metadata": {},
   "source": [
    "### (16)  Add in CPz and re-reference\n",
    "Blog on why original reference needs to be addd in to avoid rank deficient data:\n",
    "https://sccn.ucsd.edu/wiki/Makoto%27s_preprocessing_pipeline"
   ]
  },
  {
   "cell_type": "code",
   "execution_count": null,
   "id": "2dc070f4",
   "metadata": {
    "scrolled": true
   },
   "outputs": [],
   "source": [
    "\n",
    "epochs = mne.add_reference_channels(epochs, ref_channels='CPz',copy=True) # add reference channel back in\n",
    "epochs.plot_psd(fmax = 45)\n",
    "# set the references to average\n",
    "epochs = epochs.set_eeg_reference(ref_channels='average', ch_type = 'eeg')\n",
    "epochs.plot_psd(fmax = 45)"
   ]
  },
  {
   "cell_type": "markdown",
   "id": "d745c6e6",
   "metadata": {},
   "source": [
    "### (17) Final ICA check"
   ]
  },
  {
   "cell_type": "code",
   "execution_count": null,
   "id": "6644ffce",
   "metadata": {},
   "outputs": [],
   "source": [
    "#ica_components = 63 # there are 64 channels - should be lower dimensionality than num of channels\n",
    "ica = mne.preprocessing.ICA(n_components=5, random_state=97, max_iter='auto',method='fastica')#, fit_params=dict(extended=True)) # method='fastica',)#, method='picard')\n",
    "ica.fit(epochs, reject_by_annotation=True)#, picks = 'eeg')\n",
    "ica\n",
    "ica.plot_components(inst=epochs)\n",
    "ica.plot_sources(epochs) # note applied to original raw"
   ]
  },
  {
   "cell_type": "code",
   "execution_count": null,
   "id": "b27c9652",
   "metadata": {},
   "outputs": [],
   "source": [
    "epochs.plot()"
   ]
  },
  {
   "cell_type": "code",
   "execution_count": null,
   "id": "52fb2243",
   "metadata": {},
   "outputs": [],
   "source": [
    "epochs.plot_psd(fmax = 45)\n",
    "raw.plot(start=5, duration=20, title= 'Original data')\n",
    "epochs.plot(title = 'ICA applied to reconstruction')"
   ]
  },
  {
   "cell_type": "markdown",
   "id": "ea47b1c1",
   "metadata": {},
   "source": [
    "### (18) Saving the data"
   ]
  },
  {
   "cell_type": "code",
   "execution_count": null,
   "id": "c1bd80b1",
   "metadata": {
    "scrolled": true
   },
   "outputs": [],
   "source": [
    "root = 'X:\\\\CompSci\\\\ResearchProjects\\\\EJONeill\\\\Neuroimaging\\\\onaya\\\\'\n",
    "output_folder_root= root +'preprocessed\\\\'\n",
    "filename = 'sub-'+sub+'-'+tasklabel+'-'+condition\n",
    "\n",
    "epochs.save(fname = output_folder_root+'epochs\\\\'+month+'_2023\\\\'+filename+'-epo.fif', overwrite = True)"
   ]
  },
  {
   "cell_type": "code",
   "execution_count": null,
   "id": "c6c054bf",
   "metadata": {},
   "outputs": [],
   "source": []
  }
 ],
 "metadata": {
  "celltoolbar": "Tags",
  "kernelspec": {
   "display_name": "Python 3 (ipykernel)",
   "language": "python",
   "name": "python3"
  },
  "language_info": {
   "codemirror_mode": {
    "name": "ipython",
    "version": 3
   },
   "file_extension": ".py",
   "mimetype": "text/x-python",
   "name": "python",
   "nbconvert_exporter": "python",
   "pygments_lexer": "ipython3",
   "version": "3.10.9"
  }
 },
 "nbformat": 4,
 "nbformat_minor": 5
}
